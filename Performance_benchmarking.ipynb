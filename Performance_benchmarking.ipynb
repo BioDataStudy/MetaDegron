{
 "cells": [
  {
   "cell_type": "code",
   "execution_count": 1,
   "metadata": {},
   "outputs": [
    {
     "name": "stderr",
     "output_type": "stream",
     "text": [
      "Using TensorFlow backend.\n"
     ]
    }
   ],
   "source": [
    "import sys, os, math, tempfile, datetime, time, copy, re\n",
    "import numpy as np\n",
    "import pandas as pd\n",
    "from allennlp.commands.elmo import ElmoEmbedder\n",
    "from collections import Counter, defaultdict\n",
    "from keras.layers import Input, Dense\n",
    "from keras.models import Model \n",
    "from keras.models import model_from_json\n",
    "from math import log\n",
    "from pathlib import Path\n",
    "import pickle\n",
    "from scipy.stats import percentileofscore\n",
    "from sklearn.preprocessing import LabelEncoder\n",
    "import argparse\n",
    "import torch\n",
    "import multiprocessing.pool\n",
    "import seaborn as sns\n",
    "import matplotlib.pyplot as plt\n",
    "from scipy import stats\n",
    "from collections import defaultdict  \n",
    "from sklearn.metrics import accuracy_score, auc, average_precision_score, confusion_matrix, roc_curve, precision_recall_curve, roc_auc_score, recall_score, precision_score"
   ]
  },
  {
   "cell_type": "code",
   "execution_count": 3,
   "metadata": {},
   "outputs": [],
   "source": [
    "shift, slicesize = 14, 29\n",
    "path_sequences = \"./supporting_file/uniprot_seq.tsv\"\n",
    "df_sequences = pd.read_csv(path_sequences,sep=\",\")\n",
    "d_seqs = {}\n",
    "for index,row in df_sequences.iterrows():\n",
    "    d_seqs[row[\"Entry_Isoform\"]] = row[\"Sequence\"]\n",
    "\n",
    "def import_model():\n",
    "    json_f = open(\"./models/degron_DL.json\", 'r')\n",
    "    loaded_model_json = json_f.read()\n",
    "    json_f.close()\n",
    "    loaded_model = model_from_json(loaded_model_json)\n",
    "    loaded_model.load_weights('./models/degron_DL.h5')\n",
    "    return loaded_model\n",
    "\n",
    "def AA_encoding(seq_extended):\n",
    "    amino = \"ABCDEFGHIJKLMNOPQRSTUVWXYZ-\"\n",
    "    encoder = LabelEncoder()\n",
    "    encoder.fit(list(amino))\n",
    "    seq_transformed = np.array(\n",
    "        list(map(encoder.transform, np.array([list(i.upper()) for i in seq_extended]))))   \n",
    "    return seq_transformed[0]"
   ]
  },
  {
   "cell_type": "code",
   "execution_count": 4,
   "metadata": {},
   "outputs": [
    {
     "name": "stdout",
     "output_type": "stream",
     "text": [
      "WARNING:tensorflow:From /public/home/hxu6/anaconda3/envs/tens37/lib/python3.7/site-packages/tensorflow_core/python/ops/resource_variable_ops.py:1630: calling BaseResourceVariable.__init__ (from tensorflow.python.ops.resource_variable_ops) with constraint is deprecated and will be removed in a future version.\n",
      "Instructions for updating:\n",
      "If using Keras pass *_constraint arguments to layers.\n",
      "WARNING:tensorflow:From /public/home/hxu6/anaconda3/envs/tens37/lib/python3.7/site-packages/keras/backend/tensorflow_backend.py:4070: The name tf.nn.max_pool is deprecated. Please use tf.nn.max_pool2d instead.\n",
      "\n"
     ]
    },
    {
     "name": "stderr",
     "output_type": "stream",
     "text": [
      "2024-05-12 23:16:47.309206: W tensorflow/stream_executor/platform/default/dso_loader.cc:55] Could not load dynamic library 'libcuda.so.1'; dlerror: libcuda.so.1: cannot open shared object file: No such file or directory; LD_LIBRARY_PATH: /opt/gridview//pbs/dispatcher/lib:/opt/gridview//pbs/dispatcher/lib::/usr/local/lib64:/usr/local/lib:/usr/local/lib64:/usr/local/lib\n",
      "2024-05-12 23:16:47.309245: E tensorflow/stream_executor/cuda/cuda_driver.cc:318] failed call to cuInit: UNKNOWN ERROR (303)\n",
      "2024-05-12 23:16:47.309271: I tensorflow/stream_executor/cuda/cuda_diagnostics.cc:156] kernel driver does not appear to be running on this host (node4): /proc/driver/nvidia/version does not exist\n",
      "2024-05-12 23:16:47.310341: I tensorflow/core/platform/cpu_feature_guard.cc:142] Your CPU supports instructions that this TensorFlow binary was not compiled to use: AVX2 AVX512F FMA\n",
      "2024-05-12 23:16:47.339552: I tensorflow/core/platform/profile_utils/cpu_utils.cc:94] CPU Frequency: 2400000000 Hz\n",
      "2024-05-12 23:16:47.362057: I tensorflow/compiler/xla/service/service.cc:168] XLA service 0x55d6cb599a40 initialized for platform Host (this does not guarantee that XLA will be used). Devices:\n",
      "2024-05-12 23:16:47.362102: I tensorflow/compiler/xla/service/service.cc:176]   StreamExecutor device (0): Host, Default Version\n"
     ]
    }
   ],
   "source": [
    "class Elmo_embedder():\n",
    "    def __init__(self, model_dir=\"./models/uniref50_v2\", weights=\"weights.hdf5\",\n",
    "                 options=\"options.json\", threads=100): \n",
    "        if threads == 100:\n",
    "            torch.set_num_threads(multiprocessing.cpu_count() // 2)\n",
    "        else:\n",
    "            torch.set_num_threads(threads)\n",
    "\n",
    "        self.model_dir = Path(model_dir)\n",
    "        self.weights = self.model_dir / weights\n",
    "        self.options = self.model_dir / options\n",
    "        self.seqvec = ElmoEmbedder(self.options, self.weights, cuda_device=-1)\n",
    "\n",
    "    def elmo_embedding(self, x, start=None, stop=None):\n",
    "        assert start is None and stop is None, \"deprecated to use start stop, please trim seqs beforehand\"\n",
    "\n",
    "        if type(x[0]) == str:\n",
    "            x = np.array([list(i.upper()) for i in x])\n",
    "        embedding = self.seqvec.embed_sentences(x)\n",
    "        X_parsed = []\n",
    "        for i in embedding:\n",
    "            X_parsed.append(i.mean(axis=0))\n",
    "        return X_parsed\n",
    "    \n",
    "elmo_embedder = Elmo_embedder(threads=60)   \n",
    "loaded_model = import_model() "
   ]
  },
  {
   "cell_type": "markdown",
   "metadata": {},
   "source": [
    "### Predicting E3 ligase targeted degrons using deep learning"
   ]
  },
  {
   "cell_type": "code",
   "execution_count": 7,
   "metadata": {},
   "outputs": [
    {
     "name": "stdout",
     "output_type": "stream",
     "text": [
      "0\n",
      "1\n",
      "2\n",
      "3\n",
      "4\n",
      "5\n",
      "6\n",
      "7\n",
      "8\n",
      "9\n",
      "10\n",
      "11\n",
      "12\n",
      "13\n",
      "14\n",
      "15\n",
      "16\n",
      "17\n",
      "18\n",
      "19\n",
      "WARNING:tensorflow:From /public/home/hxu6/anaconda3/envs/tens37/lib/python3.7/site-packages/keras/backend/tensorflow_backend.py:422: The name tf.global_variables is deprecated. Please use tf.compat.v1.global_variables instead.\n",
      "\n"
     ]
    }
   ],
   "source": [
    "test_file = './data/test_properties.tsv'\n",
    "df_matches = pd.read_csv(test_file, sep=\"\\t\")\n",
    "\n",
    "X_local, all_seq_transformed, all_seq_elmo_embedding = [], [], []\n",
    "m = 0\n",
    "for index,row in df_matches.iterrows():\n",
    "    m = m + 1\n",
    "    seq_local = d_seqs[row['Entry']]\n",
    "    seq_len = len(seq_local)\n",
    "    seq_local = seq_local.upper()\n",
    "    seq_local_list = np.array(list(seq_local))\n",
    "\n",
    "    X_embedding = elmo_embedder.elmo_embedding(seq_local_list)\n",
    "    protein_pad_global = np.zeros((seq_len + (shift * 2), 1024), dtype=np.float32)\n",
    "\n",
    "    for i in range(0, seq_len, 1):\n",
    "        protein_pad_global[i + (shift)] = X_embedding[i]\n",
    "\n",
    "    protein_pad_local = [\"-\"] * (seq_len + (shift * 2))\n",
    "    for i in range(0, seq_len, 1):\n",
    "        protein_pad_local[i + (shift)] = seq_local[i]\n",
    "    protein_pad_local = \"\".join(protein_pad_local)\n",
    "\n",
    "    start_origin = int(row['Start'])-1\n",
    "    stop_origin = int(row['End'])\n",
    "    motif = row['DEGRON']\n",
    "    degron = row['Hit']\n",
    "    start = start_origin + shift\n",
    "    stop = stop_origin + shift\n",
    "    median_pos = (start+stop-1)//2\n",
    "    slice_start = median_pos - slicesize // 2\n",
    "    slice_stop = slice_start + slicesize\n",
    "    query_seq = protein_pad_local[slice_start:slice_stop]\n",
    "    seq_transformed = AA_encoding([query_seq])\n",
    "    all_seq_transformed.append(seq_transformed)\n",
    "    seq_elmo_embedding = protein_pad_global[slice_start:slice_stop]\n",
    "    all_seq_elmo_embedding.append(seq_elmo_embedding)\n",
    "    \n",
    "    print(m)\n",
    "    \n",
    "probs_p = loaded_model.predict([all_seq_elmo_embedding, all_seq_transformed]) \n",
    "probs_p1 = [float(i) for i in probs_p]"
   ]
  },
  {
   "cell_type": "code",
   "execution_count": 8,
   "metadata": {},
   "outputs": [],
   "source": [
    "simulated = './supporting_file/simulated_degrons.tsv.gz'\n",
    "df_simulated = pd.read_csv(simulated,sep=\"\\t\",compression=\"gzip\")\n",
    "df_simulated = df_simulated[df_simulated[\"CONS_SCORE\"]>0]\n",
    "df_simulated=df_simulated.dropna(axis=0)\n",
    "\n",
    "df_simulated[\"length\"] = df_simulated.apply(lambda x: x[\"END\"] - x[\"START\"], axis=1)\n",
    "df_simulated = df_simulated.loc[df_simulated['length'].isin([5,6])]  # some_values是可迭代对象\n",
    "df_simulated = df_simulated.sample(n=5*len(df_matches), replace=True, random_state=2024509)"
   ]
  },
  {
   "cell_type": "code",
   "execution_count": 9,
   "metadata": {},
   "outputs": [
    {
     "name": "stdout",
     "output_type": "stream",
     "text": [
      "1\n",
      "2\n",
      "3\n",
      "4\n",
      "5\n",
      "6\n",
      "7\n",
      "8\n",
      "9\n",
      "10\n",
      "11\n",
      "12\n",
      "13\n",
      "14\n",
      "15\n",
      "16\n",
      "17\n",
      "18\n",
      "19\n",
      "20\n",
      "21\n",
      "22\n",
      "23\n",
      "24\n",
      "25\n",
      "26\n",
      "27\n",
      "28\n",
      "29\n",
      "30\n",
      "31\n",
      "32\n",
      "33\n",
      "34\n",
      "35\n",
      "36\n",
      "37\n",
      "38\n",
      "39\n",
      "40\n",
      "41\n",
      "42\n",
      "43\n",
      "44\n",
      "45\n",
      "46\n",
      "47\n",
      "48\n",
      "49\n",
      "50\n",
      "51\n",
      "52\n",
      "53\n",
      "54\n",
      "55\n",
      "56\n",
      "57\n",
      "58\n",
      "59\n",
      "60\n",
      "61\n",
      "62\n",
      "63\n",
      "64\n",
      "65\n",
      "66\n",
      "67\n",
      "68\n",
      "69\n",
      "70\n",
      "71\n",
      "72\n",
      "73\n",
      "74\n",
      "75\n",
      "76\n",
      "77\n",
      "78\n",
      "79\n",
      "80\n",
      "81\n",
      "82\n",
      "83\n",
      "84\n",
      "85\n",
      "86\n",
      "87\n",
      "88\n",
      "89\n",
      "90\n",
      "91\n",
      "92\n",
      "93\n",
      "94\n",
      "95\n",
      "96\n",
      "97\n",
      "98\n",
      "99\n",
      "100\n"
     ]
    }
   ],
   "source": [
    "X_local, all_seq_transformed, all_seq_elmo_embedding = [], [], []\n",
    "m = 0\n",
    "for index,row in df_simulated.iterrows():\n",
    "    m = m + 1\n",
    "    seq_local = d_seqs[row['Entry']]\n",
    "    seq_len = len(seq_local)\n",
    "    seq_local = seq_local.upper()\n",
    "    seq_local_list = np.array(list(seq_local))\n",
    "\n",
    "    X_embedding = elmo_embedder.elmo_embedding(seq_local_list)\n",
    "    protein_pad_global = np.zeros((seq_len + (shift * 2), 1024), dtype=np.float32)\n",
    "\n",
    "    for i in range(0, seq_len, 1):\n",
    "        protein_pad_global[i + (shift)] = X_embedding[i]\n",
    "\n",
    "    protein_pad_local = [\"-\"] * (seq_len + (shift * 2))\n",
    "    for i in range(0, seq_len, 1):\n",
    "        protein_pad_local[i + (shift)] = seq_local[i]\n",
    "    protein_pad_local = \"\".join(protein_pad_local)\n",
    "\n",
    "    start_origin = int(row['START'])-1\n",
    "    stop_origin = int(row['END'])\n",
    "    motif = row['DEGRON']\n",
    "    start = start_origin + shift\n",
    "    stop = stop_origin + shift\n",
    "    median_pos = (start+stop-1)//2\n",
    "    slice_start = median_pos - slicesize // 2\n",
    "    slice_stop = slice_start + slicesize\n",
    "    query_seq = protein_pad_local[slice_start:slice_stop]\n",
    "    seq_transformed = AA_encoding([query_seq])\n",
    "    all_seq_transformed.append(seq_transformed)\n",
    "    seq_elmo_embedding = protein_pad_global[slice_start:slice_stop]\n",
    "    all_seq_elmo_embedding.append(seq_elmo_embedding)\n",
    "    \n",
    "    print(m)\n",
    "    \n",
    "probs_n = loaded_model.predict([all_seq_elmo_embedding, all_seq_transformed]) \n",
    "probs_n1 = [float(i) for i in probs_n]"
   ]
  },
  {
   "cell_type": "code",
   "execution_count": 10,
   "metadata": {},
   "outputs": [
    {
     "name": "stderr",
     "output_type": "stream",
     "text": [
      "/public/home/hxu6/anaconda3/envs/tens37/lib/python3.7/site-packages/ipykernel_launcher.py:2: DeprecationWarning: `np.int` is a deprecated alias for the builtin `int`. To silence this warning, use `int` by itself. Doing this will not modify any behavior and is safe. When replacing `np.int`, you may wish to use e.g. `np.int64` or `np.int32` to specify the precision. If you wish to review your current use, check the release note link for additional information.\n",
      "Deprecated in NumPy 1.20; for more details and guidance: https://numpy.org/devdocs/release/1.20.0-notes.html#deprecations\n",
      "  \n"
     ]
    },
    {
     "data": {
      "text/plain": [
       "0.9574999999999999"
      ]
     },
     "execution_count": 10,
     "metadata": {},
     "output_type": "execute_result"
    }
   ],
   "source": [
    "MetaDegron_D_predicted_probs = np.concatenate((probs_p,probs_n)) \n",
    "MetaDegron_D_true_labels = np.concatenate((np.ones((len(probs_p),), dtype=np.int),np.zeros((len(probs_n),), dtype=np.int)), axis=0)\n",
    "MetaDegron_D_fpr, MetaDegron_D_tpr, _ = roc_curve(MetaDegron_D_true_labels, MetaDegron_D_predicted_probs)\n",
    "MetaDegron_D_auc_value = auc(MetaDegron_D_fpr, MetaDegron_D_tpr)"
   ]
  },
  {
   "cell_type": "markdown",
   "metadata": {},
   "source": [
    "### Predicting E3 ligase targeted degrons using XGBoost model trained on multimodal feature "
   ]
  },
  {
   "cell_type": "code",
   "execution_count": 20,
   "metadata": {},
   "outputs": [],
   "source": [
    "classifier_XGBoost  = \"./models/classifier_XGBoost.pickle\"\n",
    "\n",
    "out_file = './prediction'\n",
    "test_data = './data/test_properties.tsv'\n",
    "df_properties = pd.read_csv(test_data, sep=\"\\t\")\n",
    "\n",
    "covariates = ['solvent_accessibility', 'disorder', 'conservative_score', 'coiled_coil',\n",
    "              'anchoring_score', 'flanking_ptms', 'flanking_ub_lysine', \n",
    "              'a_helix', 'flexibility',  'structured_domain',  ]\n",
    "\n",
    "pred =[\"ASA_SCORE\",\"DSS_SCORE\",\"FCONS_SCORE\",\"COIL\",\n",
    "       \"ANCHOR_SCORE\",\"nflanking_ptms\",\"nflanking_ub_lysines\",\n",
    "       \"HELIX\",\"RIG_SCORE\",\"Domain_pfam\"]\n",
    "\n",
    "clf = pickle.load(open(classifier_XGBoost, \"rb\"))\n",
    "p_probs = clf.predict_proba(df_properties[covariates])\n",
    "p_probs = [l[1] for l in p_probs]"
   ]
  },
  {
   "cell_type": "code",
   "execution_count": 21,
   "metadata": {},
   "outputs": [],
   "source": [
    "simulated = './supporting_file/simulated_degrons.tsv.gz'\n",
    "df_simulated = pd.read_csv(simulated,sep=\"\\t\",compression=\"gzip\")\n",
    "df_simulated = df_simulated[df_simulated[\"CONS_SCORE\"]>0]\n",
    "df_simulated=df_simulated.dropna(axis=0)\n",
    "\n",
    "df_simulated[\"length\"] = df_simulated.apply(lambda x: x[\"END\"] - x[\"START\"], axis=1)\n",
    "df_simulated = df_simulated.loc[df_simulated['length'].isin([5,6])]  # some_values是可迭代对象\n",
    "df_simulated = df_simulated.sample(n=5*len(df_matches), replace=True, random_state=2024509)"
   ]
  },
  {
   "cell_type": "code",
   "execution_count": 22,
   "metadata": {},
   "outputs": [],
   "source": [
    "n_probs = clf.predict_proba(df_simulated[pred])\n",
    "n_probs = [l[1] for l in n_probs]"
   ]
  },
  {
   "cell_type": "code",
   "execution_count": 25,
   "metadata": {},
   "outputs": [
    {
     "name": "stderr",
     "output_type": "stream",
     "text": [
      "/public/home/hxu6/anaconda3/envs/tens37/lib/python3.7/site-packages/ipykernel_launcher.py:2: DeprecationWarning: `np.int` is a deprecated alias for the builtin `int`. To silence this warning, use `int` by itself. Doing this will not modify any behavior and is safe. When replacing `np.int`, you may wish to use e.g. `np.int64` or `np.int32` to specify the precision. If you wish to review your current use, check the release note link for additional information.\n",
      "Deprecated in NumPy 1.20; for more details and guidance: https://numpy.org/devdocs/release/1.20.0-notes.html#deprecations\n",
      "  \n"
     ]
    },
    {
     "data": {
      "text/plain": [
       "0.9475"
      ]
     },
     "execution_count": 25,
     "metadata": {},
     "output_type": "execute_result"
    }
   ],
   "source": [
    "MetaDegron_X_predicted_probs = np.concatenate((p_probs,n_probs)) \n",
    "MetaDegron_X_true_labels = np.concatenate((np.ones((len(p_probs),), dtype=np.int),np.zeros((len(n_probs),), dtype=np.int)), axis=0)\n",
    "MetaDegron_X_fpr, MetaDegron_X_tpr, _ = roc_curve(MetaDegron_X_true_labels, MetaDegron_X_predicted_probs)\n",
    "MetaDegron_X_auc_value = auc(MetaDegron_X_fpr, MetaDegron_X_tpr)"
   ]
  },
  {
   "cell_type": "code",
   "execution_count": 28,
   "metadata": {},
   "outputs": [
    {
     "ename": "FileNotFoundError",
     "evalue": "[Errno 2] No such file or directory: './Degpred_probas.txt'",
     "output_type": "error",
     "traceback": [
      "\u001b[0;31m---------------------------------------------------------------------------\u001b[0m",
      "\u001b[0;31mFileNotFoundError\u001b[0m                         Traceback (most recent call last)",
      "\u001b[0;32m/tmp/ipykernel_338449/4250098932.py\u001b[0m in \u001b[0;36m<module>\u001b[0;34m\u001b[0m\n\u001b[1;32m      1\u001b[0m \u001b[0mDegpred_file\u001b[0m \u001b[0;34m=\u001b[0m \u001b[0;34m'./Degpred_probas.txt'\u001b[0m\u001b[0;34m\u001b[0m\u001b[0;34m\u001b[0m\u001b[0m\n\u001b[0;32m----> 2\u001b[0;31m \u001b[0mDegpred_RES\u001b[0m \u001b[0;34m=\u001b[0m \u001b[0mpd\u001b[0m\u001b[0;34m.\u001b[0m\u001b[0mread_csv\u001b[0m\u001b[0;34m(\u001b[0m\u001b[0mDegpred_file\u001b[0m\u001b[0;34m,\u001b[0m \u001b[0msep\u001b[0m\u001b[0;34m=\u001b[0m\u001b[0;34m'\\t'\u001b[0m\u001b[0;34m)\u001b[0m\u001b[0;34m\u001b[0m\u001b[0;34m\u001b[0m\u001b[0m\n\u001b[0m\u001b[1;32m      3\u001b[0m \u001b[0mdata\u001b[0m \u001b[0;34m=\u001b[0m \u001b[0mnp\u001b[0m\u001b[0;34m.\u001b[0m\u001b[0marray\u001b[0m\u001b[0;34m(\u001b[0m\u001b[0mDegpred_RES\u001b[0m\u001b[0;34m)\u001b[0m\u001b[0;34m\u001b[0m\u001b[0;34m\u001b[0m\u001b[0m\n\u001b[1;32m      4\u001b[0m \u001b[0mall_lable\u001b[0m \u001b[0;34m=\u001b[0m \u001b[0mdata\u001b[0m\u001b[0;34m[\u001b[0m\u001b[0;34m:\u001b[0m\u001b[0;34m,\u001b[0m\u001b[0;36m0\u001b[0m\u001b[0;34m]\u001b[0m\u001b[0;34m.\u001b[0m\u001b[0mastype\u001b[0m\u001b[0;34m(\u001b[0m\u001b[0mnp\u001b[0m\u001b[0;34m.\u001b[0m\u001b[0mfloat\u001b[0m\u001b[0;34m)\u001b[0m\u001b[0;34m\u001b[0m\u001b[0;34m\u001b[0m\u001b[0m\n\u001b[1;32m      5\u001b[0m \u001b[0mall_score\u001b[0m \u001b[0;34m=\u001b[0m \u001b[0mdata\u001b[0m\u001b[0;34m[\u001b[0m\u001b[0;34m:\u001b[0m\u001b[0;34m,\u001b[0m\u001b[0;36m1\u001b[0m\u001b[0;34m]\u001b[0m\u001b[0;34m.\u001b[0m\u001b[0mastype\u001b[0m\u001b[0;34m(\u001b[0m\u001b[0mnp\u001b[0m\u001b[0;34m.\u001b[0m\u001b[0mfloat\u001b[0m\u001b[0;34m)\u001b[0m\u001b[0;34m\u001b[0m\u001b[0;34m\u001b[0m\u001b[0m\n",
      "\u001b[0;32m~/anaconda3/envs/tens37/lib/python3.7/site-packages/pandas/util/_decorators.py\u001b[0m in \u001b[0;36mwrapper\u001b[0;34m(*args, **kwargs)\u001b[0m\n\u001b[1;32m    309\u001b[0m                     \u001b[0mstacklevel\u001b[0m\u001b[0;34m=\u001b[0m\u001b[0mstacklevel\u001b[0m\u001b[0;34m,\u001b[0m\u001b[0;34m\u001b[0m\u001b[0;34m\u001b[0m\u001b[0m\n\u001b[1;32m    310\u001b[0m                 )\n\u001b[0;32m--> 311\u001b[0;31m             \u001b[0;32mreturn\u001b[0m \u001b[0mfunc\u001b[0m\u001b[0;34m(\u001b[0m\u001b[0;34m*\u001b[0m\u001b[0margs\u001b[0m\u001b[0;34m,\u001b[0m \u001b[0;34m**\u001b[0m\u001b[0mkwargs\u001b[0m\u001b[0;34m)\u001b[0m\u001b[0;34m\u001b[0m\u001b[0;34m\u001b[0m\u001b[0m\n\u001b[0m\u001b[1;32m    312\u001b[0m \u001b[0;34m\u001b[0m\u001b[0m\n\u001b[1;32m    313\u001b[0m         \u001b[0;32mreturn\u001b[0m \u001b[0mwrapper\u001b[0m\u001b[0;34m\u001b[0m\u001b[0;34m\u001b[0m\u001b[0m\n",
      "\u001b[0;32m~/anaconda3/envs/tens37/lib/python3.7/site-packages/pandas/io/parsers/readers.py\u001b[0m in \u001b[0;36mread_csv\u001b[0;34m(filepath_or_buffer, sep, delimiter, header, names, index_col, usecols, squeeze, prefix, mangle_dupe_cols, dtype, engine, converters, true_values, false_values, skipinitialspace, skiprows, skipfooter, nrows, na_values, keep_default_na, na_filter, verbose, skip_blank_lines, parse_dates, infer_datetime_format, keep_date_col, date_parser, dayfirst, cache_dates, iterator, chunksize, compression, thousands, decimal, lineterminator, quotechar, quoting, doublequote, escapechar, comment, encoding, encoding_errors, dialect, error_bad_lines, warn_bad_lines, on_bad_lines, delim_whitespace, low_memory, memory_map, float_precision, storage_options)\u001b[0m\n\u001b[1;32m    584\u001b[0m     \u001b[0mkwds\u001b[0m\u001b[0;34m.\u001b[0m\u001b[0mupdate\u001b[0m\u001b[0;34m(\u001b[0m\u001b[0mkwds_defaults\u001b[0m\u001b[0;34m)\u001b[0m\u001b[0;34m\u001b[0m\u001b[0;34m\u001b[0m\u001b[0m\n\u001b[1;32m    585\u001b[0m \u001b[0;34m\u001b[0m\u001b[0m\n\u001b[0;32m--> 586\u001b[0;31m     \u001b[0;32mreturn\u001b[0m \u001b[0m_read\u001b[0m\u001b[0;34m(\u001b[0m\u001b[0mfilepath_or_buffer\u001b[0m\u001b[0;34m,\u001b[0m \u001b[0mkwds\u001b[0m\u001b[0;34m)\u001b[0m\u001b[0;34m\u001b[0m\u001b[0;34m\u001b[0m\u001b[0m\n\u001b[0m\u001b[1;32m    587\u001b[0m \u001b[0;34m\u001b[0m\u001b[0m\n\u001b[1;32m    588\u001b[0m \u001b[0;34m\u001b[0m\u001b[0m\n",
      "\u001b[0;32m~/anaconda3/envs/tens37/lib/python3.7/site-packages/pandas/io/parsers/readers.py\u001b[0m in \u001b[0;36m_read\u001b[0;34m(filepath_or_buffer, kwds)\u001b[0m\n\u001b[1;32m    480\u001b[0m \u001b[0;34m\u001b[0m\u001b[0m\n\u001b[1;32m    481\u001b[0m     \u001b[0;31m# Create the parser.\u001b[0m\u001b[0;34m\u001b[0m\u001b[0;34m\u001b[0m\u001b[0;34m\u001b[0m\u001b[0m\n\u001b[0;32m--> 482\u001b[0;31m     \u001b[0mparser\u001b[0m \u001b[0;34m=\u001b[0m \u001b[0mTextFileReader\u001b[0m\u001b[0;34m(\u001b[0m\u001b[0mfilepath_or_buffer\u001b[0m\u001b[0;34m,\u001b[0m \u001b[0;34m**\u001b[0m\u001b[0mkwds\u001b[0m\u001b[0;34m)\u001b[0m\u001b[0;34m\u001b[0m\u001b[0;34m\u001b[0m\u001b[0m\n\u001b[0m\u001b[1;32m    483\u001b[0m \u001b[0;34m\u001b[0m\u001b[0m\n\u001b[1;32m    484\u001b[0m     \u001b[0;32mif\u001b[0m \u001b[0mchunksize\u001b[0m \u001b[0;32mor\u001b[0m \u001b[0miterator\u001b[0m\u001b[0;34m:\u001b[0m\u001b[0;34m\u001b[0m\u001b[0;34m\u001b[0m\u001b[0m\n",
      "\u001b[0;32m~/anaconda3/envs/tens37/lib/python3.7/site-packages/pandas/io/parsers/readers.py\u001b[0m in \u001b[0;36m__init__\u001b[0;34m(self, f, engine, **kwds)\u001b[0m\n\u001b[1;32m    809\u001b[0m             \u001b[0mself\u001b[0m\u001b[0;34m.\u001b[0m\u001b[0moptions\u001b[0m\u001b[0;34m[\u001b[0m\u001b[0;34m\"has_index_names\"\u001b[0m\u001b[0;34m]\u001b[0m \u001b[0;34m=\u001b[0m \u001b[0mkwds\u001b[0m\u001b[0;34m[\u001b[0m\u001b[0;34m\"has_index_names\"\u001b[0m\u001b[0;34m]\u001b[0m\u001b[0;34m\u001b[0m\u001b[0;34m\u001b[0m\u001b[0m\n\u001b[1;32m    810\u001b[0m \u001b[0;34m\u001b[0m\u001b[0m\n\u001b[0;32m--> 811\u001b[0;31m         \u001b[0mself\u001b[0m\u001b[0;34m.\u001b[0m\u001b[0m_engine\u001b[0m \u001b[0;34m=\u001b[0m \u001b[0mself\u001b[0m\u001b[0;34m.\u001b[0m\u001b[0m_make_engine\u001b[0m\u001b[0;34m(\u001b[0m\u001b[0mself\u001b[0m\u001b[0;34m.\u001b[0m\u001b[0mengine\u001b[0m\u001b[0;34m)\u001b[0m\u001b[0;34m\u001b[0m\u001b[0;34m\u001b[0m\u001b[0m\n\u001b[0m\u001b[1;32m    812\u001b[0m \u001b[0;34m\u001b[0m\u001b[0m\n\u001b[1;32m    813\u001b[0m     \u001b[0;32mdef\u001b[0m \u001b[0mclose\u001b[0m\u001b[0;34m(\u001b[0m\u001b[0mself\u001b[0m\u001b[0;34m)\u001b[0m\u001b[0;34m:\u001b[0m\u001b[0;34m\u001b[0m\u001b[0;34m\u001b[0m\u001b[0m\n",
      "\u001b[0;32m~/anaconda3/envs/tens37/lib/python3.7/site-packages/pandas/io/parsers/readers.py\u001b[0m in \u001b[0;36m_make_engine\u001b[0;34m(self, engine)\u001b[0m\n\u001b[1;32m   1038\u001b[0m             )\n\u001b[1;32m   1039\u001b[0m         \u001b[0;31m# error: Too many arguments for \"ParserBase\"\u001b[0m\u001b[0;34m\u001b[0m\u001b[0;34m\u001b[0m\u001b[0;34m\u001b[0m\u001b[0m\n\u001b[0;32m-> 1040\u001b[0;31m         \u001b[0;32mreturn\u001b[0m \u001b[0mmapping\u001b[0m\u001b[0;34m[\u001b[0m\u001b[0mengine\u001b[0m\u001b[0;34m]\u001b[0m\u001b[0;34m(\u001b[0m\u001b[0mself\u001b[0m\u001b[0;34m.\u001b[0m\u001b[0mf\u001b[0m\u001b[0;34m,\u001b[0m \u001b[0;34m**\u001b[0m\u001b[0mself\u001b[0m\u001b[0;34m.\u001b[0m\u001b[0moptions\u001b[0m\u001b[0;34m)\u001b[0m  \u001b[0;31m# type: ignore[call-arg]\u001b[0m\u001b[0;34m\u001b[0m\u001b[0;34m\u001b[0m\u001b[0m\n\u001b[0m\u001b[1;32m   1041\u001b[0m \u001b[0;34m\u001b[0m\u001b[0m\n\u001b[1;32m   1042\u001b[0m     \u001b[0;32mdef\u001b[0m \u001b[0m_failover_to_python\u001b[0m\u001b[0;34m(\u001b[0m\u001b[0mself\u001b[0m\u001b[0;34m)\u001b[0m\u001b[0;34m:\u001b[0m\u001b[0;34m\u001b[0m\u001b[0;34m\u001b[0m\u001b[0m\n",
      "\u001b[0;32m~/anaconda3/envs/tens37/lib/python3.7/site-packages/pandas/io/parsers/c_parser_wrapper.py\u001b[0m in \u001b[0;36m__init__\u001b[0;34m(self, src, **kwds)\u001b[0m\n\u001b[1;32m     49\u001b[0m \u001b[0;34m\u001b[0m\u001b[0m\n\u001b[1;32m     50\u001b[0m         \u001b[0;31m# open handles\u001b[0m\u001b[0;34m\u001b[0m\u001b[0;34m\u001b[0m\u001b[0;34m\u001b[0m\u001b[0m\n\u001b[0;32m---> 51\u001b[0;31m         \u001b[0mself\u001b[0m\u001b[0;34m.\u001b[0m\u001b[0m_open_handles\u001b[0m\u001b[0;34m(\u001b[0m\u001b[0msrc\u001b[0m\u001b[0;34m,\u001b[0m \u001b[0mkwds\u001b[0m\u001b[0;34m)\u001b[0m\u001b[0;34m\u001b[0m\u001b[0;34m\u001b[0m\u001b[0m\n\u001b[0m\u001b[1;32m     52\u001b[0m         \u001b[0;32massert\u001b[0m \u001b[0mself\u001b[0m\u001b[0;34m.\u001b[0m\u001b[0mhandles\u001b[0m \u001b[0;32mis\u001b[0m \u001b[0;32mnot\u001b[0m \u001b[0;32mNone\u001b[0m\u001b[0;34m\u001b[0m\u001b[0;34m\u001b[0m\u001b[0m\n\u001b[1;32m     53\u001b[0m \u001b[0;34m\u001b[0m\u001b[0m\n",
      "\u001b[0;32m~/anaconda3/envs/tens37/lib/python3.7/site-packages/pandas/io/parsers/base_parser.py\u001b[0m in \u001b[0;36m_open_handles\u001b[0;34m(self, src, kwds)\u001b[0m\n\u001b[1;32m    227\u001b[0m             \u001b[0mmemory_map\u001b[0m\u001b[0;34m=\u001b[0m\u001b[0mkwds\u001b[0m\u001b[0;34m.\u001b[0m\u001b[0mget\u001b[0m\u001b[0;34m(\u001b[0m\u001b[0;34m\"memory_map\"\u001b[0m\u001b[0;34m,\u001b[0m \u001b[0;32mFalse\u001b[0m\u001b[0;34m)\u001b[0m\u001b[0;34m,\u001b[0m\u001b[0;34m\u001b[0m\u001b[0;34m\u001b[0m\u001b[0m\n\u001b[1;32m    228\u001b[0m             \u001b[0mstorage_options\u001b[0m\u001b[0;34m=\u001b[0m\u001b[0mkwds\u001b[0m\u001b[0;34m.\u001b[0m\u001b[0mget\u001b[0m\u001b[0;34m(\u001b[0m\u001b[0;34m\"storage_options\"\u001b[0m\u001b[0;34m,\u001b[0m \u001b[0;32mNone\u001b[0m\u001b[0;34m)\u001b[0m\u001b[0;34m,\u001b[0m\u001b[0;34m\u001b[0m\u001b[0;34m\u001b[0m\u001b[0m\n\u001b[0;32m--> 229\u001b[0;31m             \u001b[0merrors\u001b[0m\u001b[0;34m=\u001b[0m\u001b[0mkwds\u001b[0m\u001b[0;34m.\u001b[0m\u001b[0mget\u001b[0m\u001b[0;34m(\u001b[0m\u001b[0;34m\"encoding_errors\"\u001b[0m\u001b[0;34m,\u001b[0m \u001b[0;34m\"strict\"\u001b[0m\u001b[0;34m)\u001b[0m\u001b[0;34m,\u001b[0m\u001b[0;34m\u001b[0m\u001b[0;34m\u001b[0m\u001b[0m\n\u001b[0m\u001b[1;32m    230\u001b[0m         )\n\u001b[1;32m    231\u001b[0m \u001b[0;34m\u001b[0m\u001b[0m\n",
      "\u001b[0;32m~/anaconda3/envs/tens37/lib/python3.7/site-packages/pandas/io/common.py\u001b[0m in \u001b[0;36mget_handle\u001b[0;34m(path_or_buf, mode, encoding, compression, memory_map, is_text, errors, storage_options)\u001b[0m\n\u001b[1;32m    705\u001b[0m                 \u001b[0mencoding\u001b[0m\u001b[0;34m=\u001b[0m\u001b[0mioargs\u001b[0m\u001b[0;34m.\u001b[0m\u001b[0mencoding\u001b[0m\u001b[0;34m,\u001b[0m\u001b[0;34m\u001b[0m\u001b[0;34m\u001b[0m\u001b[0m\n\u001b[1;32m    706\u001b[0m                 \u001b[0merrors\u001b[0m\u001b[0;34m=\u001b[0m\u001b[0merrors\u001b[0m\u001b[0;34m,\u001b[0m\u001b[0;34m\u001b[0m\u001b[0;34m\u001b[0m\u001b[0m\n\u001b[0;32m--> 707\u001b[0;31m                 \u001b[0mnewline\u001b[0m\u001b[0;34m=\u001b[0m\u001b[0;34m\"\"\u001b[0m\u001b[0;34m,\u001b[0m\u001b[0;34m\u001b[0m\u001b[0;34m\u001b[0m\u001b[0m\n\u001b[0m\u001b[1;32m    708\u001b[0m             )\n\u001b[1;32m    709\u001b[0m         \u001b[0;32melse\u001b[0m\u001b[0;34m:\u001b[0m\u001b[0;34m\u001b[0m\u001b[0;34m\u001b[0m\u001b[0m\n",
      "\u001b[0;31mFileNotFoundError\u001b[0m: [Errno 2] No such file or directory: './Degpred_probas.txt'"
     ]
    }
   ],
   "source": [
    "Degpred_file = './supporting_file/Degpred_probas.txt'\n",
    "Degpred_RES = pd.read_csv(Degpred_file, sep='\\t')\n",
    "data = np.array(Degpred_RES)\n",
    "all_lable = data[:,0].astype(np.float)\n",
    "all_score = data[:,1].astype(np.float)\n",
    "Degpred_fpr, Degpred_tpr, _ = roc_curve(all_lable, all_score)\n",
    "Degpred_auc_value = auc(Degpred_fpr, Degpred_tpr)\n"
   ]
  },
  {
   "cell_type": "code",
   "execution_count": 27,
   "metadata": {},
   "outputs": [
    {
     "data": {
      "text/plain": [
       "<matplotlib.legend.Legend at 0x7f4b4464ab90>"
      ]
     },
     "execution_count": 27,
     "metadata": {},
     "output_type": "execute_result"
    },
    {
     "name": "stderr",
     "output_type": "stream",
     "text": [
      "findfont: Font family ['Times New Roman'] not found. Falling back to DejaVu Sans.\n",
      "findfont: Font family ['Times New Roman'] not found. Falling back to DejaVu Sans.\n"
     ]
    },
    {
     "data": {
      "image/png": "[encoded data removed]",
      "text/plain": [
       "<Figure size 446.4x446.4 with 1 Axes>"
      ]
     },
     "metadata": {
      "needs_background": "light"
     },
     "output_type": "display_data"
    }
   ],
   "source": [
    "font1 = {'family' : 'Times New Roman',\n",
    "        'weight' : 'normal',\n",
    "        'size'   : 16}\n",
    "figsize=6.2, 6.2\n",
    "\n",
    "figure1, ax1 = plt.subplots(figsize=figsize)\n",
    "ax1.tick_params(labelsize=18)\n",
    "labels = ax1.get_xticklabels() + ax1.get_yticklabels()\n",
    "[label.set_fontname('Times New Roman') for label in labels]   \n",
    "\n",
    "colorlist=plt.get_cmap('Set1')([0,1,2])\n",
    "\n",
    "ax1.plot(MetaDegron_D_fpr, MetaDegron_D_tpr, lw=3, alpha=0.9, color = colorlist[0],\n",
    "        label='%s (AUC = %0.4f)' % ('MetaDegron-D', MetaDegron_D_auc_value))\n",
    "\n",
    "ax1.plot(MetaDegron_X_fpr, MetaDegron_X_tpr, lw=3, alpha=0.9, color = colorlist[1],\n",
    "        label='%s (AUC = %0.4f)' % ('MetaDegron-X', MetaDegron_X_auc_value))\n",
    "\n",
    "ax1.plot(Degpred_fpr, Degpred_tpr, lw=3, alpha=0.9, color = colorlist[2],\n",
    "        label='%s (AUC = %0.4f)' % ('Degpred', Degpred_auc_value))\n",
    "\n",
    "ax1.plot([0, 1], [0, 1], linestyle='--', lw=2, color='grey',\n",
    "        label='Luck', alpha=.8)\n",
    "\n",
    "ax1.set_xlim([-0.05, 1.05])\n",
    "ax1.set_ylim([-0.05, 1.05])\n",
    "ax1.set_xlabel('False Positive Rate', font1)\n",
    "ax1.set_ylabel('True Positive Rate', font1)\n",
    "\n",
    "ax1.legend(loc=\"lower right\")"
   ]
  }
 ],
 "metadata": {
  "kernelspec": {
   "display_name": "tens37",
   "language": "python",
   "name": "python3"
  },
  "language_info": {
   "codemirror_mode": {
    "name": "ipython",
    "version": 3
   },
   "file_extension": ".py",
   "mimetype": "text/x-python",
   "name": "python",
   "nbconvert_exporter": "python",
   "pygments_lexer": "ipython3",
   "version": "3.7.10"
  }
 },
 "nbformat": 4,
 "nbformat_minor": 2
}
